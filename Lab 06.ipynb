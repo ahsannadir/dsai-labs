{
 "cells": [
  {
   "cell_type": "code",
   "execution_count": 8,
   "id": "321f43a7",
   "metadata": {},
   "outputs": [
    {
     "name": "stdout",
     "output_type": "stream",
     "text": [
      "Enter the length: 7\n",
      "Enter the width: 8\n",
      "Area: 56\n",
      "Perimeter: 112\n"
     ]
    }
   ],
   "source": [
    "class Rectangle:\n",
    "    length = 0\n",
    "    width = 0\n",
    "    \n",
    "    def __init__(self, l, w):\n",
    "        self.length = l\n",
    "        self.width = w\n",
    "    \n",
    "    def area(self):\n",
    "        return self.length * self.width\n",
    "    def perimeter(self):\n",
    "        return 2 * (self.length * self.width)\n",
    "\n",
    "lnt = int(input(\"Enter the length: \"))\n",
    "wid = int(input(\"Enter the width: \"))\n",
    "\n",
    "rect = Rectangle(lnt, wid)\n",
    "print(f\"Area: {rect.area()}\")\n",
    "print(f\"Perimeter: {rect.perimeter()}\")"
   ]
  },
  {
   "cell_type": "code",
   "execution_count": 3,
   "id": "cb29472d",
   "metadata": {},
   "outputs": [
    {
     "name": "stdout",
     "output_type": "stream",
     "text": [
      "The Animal is eating\n",
      "Hello my name is Tweety\n",
      "Tweet!\n",
      "Hello my name is Bella\n",
      "Meow!\n",
      "Hello my name is Tommy\n",
      "Woof!\n"
     ]
    }
   ],
   "source": [
    "class Animal:\n",
    "    \n",
    "    name = \"\"\n",
    "    \n",
    "    def eat(self):\n",
    "        print(\"The Animal is eating\")\n",
    "    \n",
    "class Dog(Animal):\n",
    "    \n",
    "    def __init__(self, name):\n",
    "        self.name = name\n",
    "    \n",
    "    def introduce(self):\n",
    "        print(f\"Hello my name is {self.name}\")\n",
    "        \n",
    "    def bark(self):\n",
    "        print(\"Woof!\")\n",
    "        \n",
    "class Cat(Animal):\n",
    "    \n",
    "    def __init__(self, name):\n",
    "        self.name = name\n",
    "    \n",
    "    def introduce(self):\n",
    "        print(f\"Hello my name is {self.name}\")\n",
    "        \n",
    "    def make_sound(self):\n",
    "        print(\"Meow!\")\n",
    "        \n",
    "class Bird(Animal):\n",
    "    \n",
    "    def __init__(self, name):\n",
    "        self.name = name\n",
    "    \n",
    "    def introduce(self):\n",
    "        print(f\"Hello my name is {self.name}\")\n",
    "        \n",
    "    def make_sound(self):\n",
    "        print(\"Tweet!\")\n",
    "        \n",
    "a = Animal()\n",
    "b = Bird(\"Tweety\")\n",
    "c = Cat(\"Bella\")\n",
    "d = Dog(\"Tommy\")\n",
    "\n",
    "a.eat()\n",
    "\n",
    "b.introduce()\n",
    "b.make_sound()\n",
    "\n",
    "c.introduce()\n",
    "c.make_sound()\n",
    "\n",
    "d.introduce()\n",
    "d.bark()"
   ]
  },
  {
   "cell_type": "code",
   "execution_count": 15,
   "id": "637f1758",
   "metadata": {},
   "outputs": [
    {
     "name": "stdout",
     "output_type": "stream",
     "text": [
      "The area of Shape is: 50\n",
      "Area of Circle is: 706.8583470577034\n",
      "Area of Rectangle is: 600\n"
     ]
    }
   ],
   "source": [
    "from math import pi\n",
    "\n",
    "class Shape:\n",
    "    ar = 0\n",
    "    \n",
    "    def __init__(self, ar):\n",
    "        self.ar = ar\n",
    "        \n",
    "    def area(self):\n",
    "        print(f\"The area of Shape is: {self.ar}\")\n",
    "        \n",
    "class Circle(Shape):\n",
    "    radius = 0\n",
    "    \n",
    "    def __init__(self, radius):\n",
    "        self.radius = radius\n",
    "        \n",
    "    def area(self):\n",
    "        print(f\"Area of Circle is: {pi * self.radius**2}\")\n",
    "        \n",
    "class Rectangle(Shape):\n",
    "    length = 0\n",
    "    width = 0\n",
    "    \n",
    "    def __init__(self, length, width):\n",
    "        self.length = length\n",
    "        self.width = width\n",
    "        \n",
    "    def area(self):\n",
    "        print(f\"Area of Rectangle is: {self.length * self.width}\")\n",
    "        \n",
    "shape = Shape(50)\n",
    "circle = Circle(15)\n",
    "rectangle = Rectangle(20, 30)\n",
    "\n",
    "shape.area()\n",
    "circle.area()\n",
    "rectangle.area()"
   ]
  }
 ],
 "metadata": {
  "kernelspec": {
   "display_name": "Python 3 (ipykernel)",
   "language": "python",
   "name": "python3"
  },
  "language_info": {
   "codemirror_mode": {
    "name": "ipython",
    "version": 3
   },
   "file_extension": ".py",
   "mimetype": "text/x-python",
   "name": "python",
   "nbconvert_exporter": "python",
   "pygments_lexer": "ipython3",
   "version": "3.10.9"
  }
 },
 "nbformat": 4,
 "nbformat_minor": 5
}
