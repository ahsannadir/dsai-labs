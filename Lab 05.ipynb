{
 "cells": [
  {
   "cell_type": "code",
   "execution_count": 3,
   "id": "6d133088",
   "metadata": {},
   "outputs": [
    {
     "name": "stdout",
     "output_type": "stream",
     "text": [
      "Enter a line of text: This IS a SAMPLE text\n",
      "\n",
      "\n",
      "The line in UPPERCASE is: \n",
      "THIS IS A SAMPLE TEXT\n",
      "\n",
      "\n",
      "The line in lowercase is: \n",
      "this is a sample text\n"
     ]
    }
   ],
   "source": [
    "text = input(\"Enter a line of text: \")\n",
    "\n",
    "print(\"\\n\")\n",
    "print(\"The line in UPPERCASE is: \", text.upper(), sep=\"\\n\")\n",
    "print(\"\\n\")\n",
    "print(\"The line in lowercase is: \", text.lower(), sep=\"\\n\")"
   ]
  },
  {
   "cell_type": "code",
   "execution_count": 5,
   "id": "11dbea53",
   "metadata": {},
   "outputs": [
    {
     "name": "stdout",
     "output_type": "stream",
     "text": [
      "Enter a sentence: A quick brown fox jumps over the lazy dog\n",
      "The are 9 words in the sentence\n"
     ]
    }
   ],
   "source": [
    "text = input(\"Enter a sentence: \")\n",
    "spaces = text.count(\" \")\n",
    "print(f\"The are {spaces + 1} words in the sentence\")"
   ]
  },
  {
   "cell_type": "code",
   "execution_count": 4,
   "id": "f4425b39",
   "metadata": {},
   "outputs": [
    {
     "name": "stdout",
     "output_type": "stream",
     "text": [
      "Enter two strings: Python Python\n",
      "Python and Python are Equal\n"
     ]
    }
   ],
   "source": [
    "text = input(\"Enter two strings: \")\n",
    "\n",
    "text = text.replace(\",\", \"\")\n",
    "text = text.replace(\".\", \"\")\n",
    "\n",
    "text = text.split()\n",
    "\n",
    "if text[0].lower() == text[1].lower():\n",
    "    print(f\"{text[0]} and {text[1]} are Equal\")\n",
    "elif text[0].lower() > text[1].lower():\n",
    "    print(f\"{text[0]} is greater than {text[1]}\")\n",
    "else:\n",
    "    print(f\"{text[0]} is less than {text[1]}\")"
   ]
  },
  {
   "cell_type": "code",
   "execution_count": 13,
   "id": "06867b7d",
   "metadata": {},
   "outputs": [
    {
     "name": "stdout",
     "output_type": "stream",
     "text": [
      "Index of 9362 is: 3\n",
      "List after inserting and appending: [4353, 2314, 2956, 9362, 3900, 4499, 5566, 1830]\n",
      "List after reversing: [1830, 5566, 4499, 3900, 9362, 2956, 2314, 4353]\n",
      "List after sorting: [1830, 2314, 2956, 3900, 4353, 4499, 5566, 9362]\n"
     ]
    }
   ],
   "source": [
    "ids = [4353, 2314, 2956, 3382, 9362, 3900]\n",
    "\n",
    "ids.remove(3382)\n",
    "print(f\"Index of 9362 is: {ids.index(9362)}\")\n",
    "ids.insert(5, 4499)\n",
    "ids.append(5566)\n",
    "ids.append(1830)\n",
    "print(f\"List after inserting and appending: {ids}\")\n",
    "\n",
    "ids.reverse()\n",
    "print(f\"List after reversing: {ids}\")\n",
    "\n",
    "ids.sort()\n",
    "print(f\"List after sorting: {ids}\")"
   ]
  },
  {
   "cell_type": "code",
   "execution_count": 27,
   "id": "56666add",
   "metadata": {},
   "outputs": [
    {
     "name": "stdout",
     "output_type": "stream",
     "text": [
      "Numbers\tProbability\n",
      "2\t2.73%\n",
      "3\t5.04%\n",
      "4\t8.88%\n",
      "5\t10.58%\n",
      "6\t13.13%\n",
      "7\t16.68%\n",
      "8\t14.07%\n",
      "9\t11.34%\n",
      "10\t8.81%\n",
      "11\t5.70%\n",
      "12\t3.04%\n"
     ]
    }
   ],
   "source": [
    "import random\n",
    "\n",
    "total = 10000\n",
    "result = [0] * 13\n",
    "\n",
    "for i in range(total):\n",
    "    dice1 = random.randint(1, 6)\n",
    "    dice2 = random.randint(1, 6)\n",
    "    roll_sum = dice1 + dice2\n",
    "    result[roll_sum] += 1\n",
    "\n",
    "print(\"Numbers\", \"Probability\", sep=\"\\t\")\n",
    "for i in range(2, 13):\n",
    "    percent = (result[i] / total) * 100\n",
    "    print(f\"{i}\\t{percent:.2f}%\")"
   ]
  },
  {
   "cell_type": "code",
   "execution_count": 17,
   "id": "435c685f",
   "metadata": {},
   "outputs": [
    {
     "name": "stdout",
     "output_type": "stream",
     "text": [
      "[73, 26, 42, 59, 85, 18, 29, 71, 57, 89, 84, 84, 38, 13, 97, 85, 12, 81, 59, 46, 42, 23, 36, 82, 81, 89, 84, 91, 1, 25, 15, 79, 72, 14, 10, 31, 98, 32, 5, 41, 14, 2, 90, 99, 41, 33, 96, 21, 16, 72, 29, 59, 82, 42, 92, 97, 89, 18, 57, 39, 29, 88, 61, 3, 28, 56, 7, 79, 7, 32, 11, 85, 95, 50, 50, 3, 75, 21, 45, 30, 73, 73, 99, 27, 50, 21, 80, 27, 34, 87, 46, 60, 45, 79, 86, 44, 99, 34, 46, 28]\n",
      "Mean\tMode\tMedian\n",
      "51.8\t73\t46.0\n"
     ]
    }
   ],
   "source": [
    "from collections import Counter\n",
    "import random\n",
    "\n",
    "def mean(numbers):\n",
    "    return sum(numbers) / len(numbers)\n",
    "\n",
    "def mode(numbers):\n",
    "    common = Counter(numbers)\n",
    "    mod = common.most_common(1)\n",
    "    return mod[0][0]\n",
    "\n",
    "def median(numbers):\n",
    "    numbers.sort()\n",
    "    if len(numbers) % 2 == 0:\n",
    "        middle1 = numbers[(len(numbers)-1) // 2]\n",
    "        middle2 = numbers[(len(numbers)+1) // 2]\n",
    "        return (middle1 + middle2) / 2\n",
    "    else:\n",
    "        return numbers[len(numbers) // 2]\n",
    "\n",
    "list = [random.randint(1, 100) for _ in range(100)]\n",
    "\n",
    "print(list)\n",
    "print(\"Mean\", \"Mode\", \"Median\", sep=\"\\t\")\n",
    "print(mean(list), mode(list), median(list), sep=\"\\t\")"
   ]
  },
  {
   "cell_type": "code",
   "execution_count": 8,
   "id": "444e144f",
   "metadata": {},
   "outputs": [
    {
     "name": "stdout",
     "output_type": "stream",
     "text": [
      "Rotated List: [5, 1, 2, 3, 4]\n"
     ]
    }
   ],
   "source": [
    "def rotate(li):\n",
    "    last = li.pop()\n",
    "    li.insert(0, last)\n",
    "    return li\n",
    "\n",
    "list = [1, 2, 3, 4, 5]\n",
    "\n",
    "print(f\"Rotated List: {rotate(list)}\")"
   ]
  },
  {
   "cell_type": "code",
   "execution_count": 16,
   "id": "c66d0f0c",
   "metadata": {},
   "outputs": [
    {
     "name": "stdout",
     "output_type": "stream",
     "text": [
      "Random Numbers: [0, 0, 1, 1, 0, 1, 1, 1, 1, 1, 1, 1, 0, 1, 1, 1, 1, 1, 0, 0, 1, 0, 1, 0, 1, 1, 1, 1, 0, 0, 0, 0, 0, 0, 1, 1, 0, 0, 1, 0, 0, 1, 0, 1, 0, 1, 1, 1, 0, 1, 0, 0, 0, 0, 1, 1, 1, 1, 1, 0, 1, 0, 0, 0, 1, 1, 0, 0, 0, 1, 0, 1, 1, 1, 1, 0, 0, 0, 0, 0, 1, 0, 0, 0, 1, 0, 0, 1, 1, 1, 0, 0, 0, 1, 1, 1, 1, 1, 1, 1]\n",
      "Longest Run of Zeros: 6\n"
     ]
    }
   ],
   "source": [
    "import random\n",
    "\n",
    "numbers = [random.randint(0, 1) for _ in range(100)]\n",
    "print(f\"Random Numbers: {numbers}\")\n",
    "\n",
    "run = 0\n",
    "longest_run = 0\n",
    "\n",
    "for number in numbers:\n",
    "    if number == 0:\n",
    "        run += 1\n",
    "    else:\n",
    "        longest_run = max(longest_run, run)\n",
    "        run = 0\n",
    "longest_run = max(longest_run, run)\n",
    "\n",
    "print(f\"Longest Run of Zeros: {longest_run}\")"
   ]
  },
  {
   "cell_type": "code",
   "execution_count": 37,
   "id": "12d24edf",
   "metadata": {},
   "outputs": [
    {
     "name": "stdout",
     "output_type": "stream",
     "text": [
      "Enter the number of rows: 2\n",
      "Enter the number of columns: 2\n",
      "Enter element at 11: 2\n",
      "Enter element at 12: 2\n",
      "Enter element at 21: 2\n",
      "Enter element at 22: 2\n",
      "Original Matrix\n",
      "[[2, 2], [2, 2]]\n",
      "Transpose\n",
      "[[2, 2], [2, 2]]\n",
      "Product of Original & Transpose\n",
      "[[8, 8], [8, 8]]\n"
     ]
    }
   ],
   "source": [
    "rows = int(input(\"Enter the number of rows: \"))\n",
    "cols = int(input(\"Enter the number of columns: \"))\n",
    "\n",
    "mat = [[0 for j in range(cols)] for i in range(rows)]\n",
    "transpose = [[0 for j in range(cols)] for i in range(rows)]\n",
    "\n",
    "for i in range (rows):\n",
    "    for j in range (cols):\n",
    "        mat[i][j] = int(input(f\"Enter element at {i + 1}{j + 1}: \"))\n",
    "        \n",
    "for i in range(rows):\n",
    "    for j in range(cols):\n",
    "        transpose[j][i] = mat[i][j]\n",
    "\n",
    "prod = [[0 for j in range(len(transpose))] for i in range(len(mat))]\n",
    "\n",
    "for i in range(len(mat)):\n",
    "   for j in range(len(transpose[0])):\n",
    "       for k in range(len(transpose)):\n",
    "           prod[i][j] += mat[i][k] * transpose[k][j]\n",
    "    \n",
    "print(\"Original Matrix\", mat, sep=\"\\n\")\n",
    "print(\"Transpose\", transpose, sep=\"\\n\")\n",
    "print(\"Product of Original & Transpose\", prod, sep=\"\\n\")"
   ]
  },
  {
   "cell_type": "code",
   "execution_count": null,
   "id": "1c97a0ec",
   "metadata": {},
   "outputs": [],
   "source": []
  }
 ],
 "metadata": {
  "kernelspec": {
   "display_name": "Python 3 (ipykernel)",
   "language": "python",
   "name": "python3"
  },
  "language_info": {
   "codemirror_mode": {
    "name": "ipython",
    "version": 3
   },
   "file_extension": ".py",
   "mimetype": "text/x-python",
   "name": "python",
   "nbconvert_exporter": "python",
   "pygments_lexer": "ipython3",
   "version": "3.10.9"
  }
 },
 "nbformat": 4,
 "nbformat_minor": 5
}
