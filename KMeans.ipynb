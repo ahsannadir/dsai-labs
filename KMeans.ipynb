{
 "cells": [
  {
   "cell_type": "code",
   "execution_count": 6,
   "id": "0d969773",
   "metadata": {},
   "outputs": [],
   "source": [
    "import numpy as np\n",
    "\n",
    "from sklearn.cluster import KMeans\n",
    "import matplotlib.pyplot as plt"
   ]
  },
  {
   "cell_type": "code",
   "execution_count": 10,
   "id": "421ceb45",
   "metadata": {},
   "outputs": [],
   "source": [
    "np.random.seed(42)\n",
    "\n",
    "X = np.random.rand(100, 2)"
   ]
  },
  {
   "cell_type": "code",
   "execution_count": 11,
   "id": "1ffa80f6",
   "metadata": {},
   "outputs": [],
   "source": [
    "K = 2"
   ]
  },
  {
   "cell_type": "code",
   "execution_count": 12,
   "id": "df052657",
   "metadata": {},
   "outputs": [
    {
     "data": {
      "text/plain": [
       "array([[0.37454012, 0.95071431],\n",
       "       [0.73199394, 0.59865848]])"
      ]
     },
     "execution_count": 12,
     "metadata": {},
     "output_type": "execute_result"
    }
   ],
   "source": [
    "centroids = X[:K]\n",
    "centroids"
   ]
  },
  {
   "cell_type": "code",
   "execution_count": 15,
   "id": "f5053333",
   "metadata": {},
   "outputs": [],
   "source": [
    "def kmeans_clustering(X, K, centroids):\n",
    "    labels = np.argmin(np.linalg.norm(X[:, np.newaxis] - centroids, axis=2), axis=1)\n",
    "    \n",
    "    while True:\n",
    "        new_centroids = np.array([X[labels == k].mean(axis=0) for k in range(K)])\n",
    "        \n",
    "        print(\"Old Centroids --> \")\n",
    "        print(centroids)\n",
    "        print(\"New centroids --> \")\n",
    "        print(new_centroids)\n",
    "              \n",
    "        if np.all(centroids == new_centroids):\n",
    "              break\n",
    "              \n",
    "        centroids = new_centroids\n",
    "              \n",
    "        labels = np.argmin(np.linalg.norm(X[:, np.newaxis] - centroids, axis=2), axis=1)\n",
    "        \n",
    "    return labels, centroids"
   ]
  },
  {
   "cell_type": "code",
   "execution_count": 16,
   "id": "7b20b17d",
   "metadata": {},
   "outputs": [
    {
     "name": "stdout",
     "output_type": "stream",
     "text": [
      "Old Centroids --> \n",
      "[[0.37454012 0.95071431]\n",
      " [0.73199394 0.59865848]]\n",
      "New centroids --> \n",
      "[[0.19379588 0.70742408]\n",
      " [0.61009742 0.38792328]]\n",
      "Old Centroids --> \n",
      "[[0.19379588 0.70742408]\n",
      " [0.61009742 0.38792328]]\n",
      "New centroids --> \n",
      "[[0.20255072 0.65926449]\n",
      " [0.64460345 0.38577883]]\n",
      "Old Centroids --> \n",
      "[[0.20255072 0.65926449]\n",
      " [0.64460345 0.38577883]]\n",
      "New centroids --> \n",
      "[[0.20310912 0.62746368]\n",
      " [0.66633382 0.39330509]]\n",
      "Old Centroids --> \n",
      "[[0.20310912 0.62746368]\n",
      " [0.66633382 0.39330509]]\n",
      "New centroids --> \n",
      "[[0.19856032 0.60735315]\n",
      " [0.67734612 0.40331141]]\n",
      "Old Centroids --> \n",
      "[[0.19856032 0.60735315]\n",
      " [0.67734612 0.40331141]]\n",
      "New centroids --> \n",
      "[[0.20138425 0.58464373]\n",
      " [0.69201528 0.41328372]]\n",
      "Old Centroids --> \n",
      "[[0.20138425 0.58464373]\n",
      " [0.69201528 0.41328372]]\n",
      "New centroids --> \n",
      "[[0.19211515 0.5417242 ]\n",
      " [0.70805942 0.44394621]]\n",
      "Old Centroids --> \n",
      "[[0.19211515 0.5417242 ]\n",
      " [0.70805942 0.44394621]]\n",
      "New centroids --> \n",
      "[[0.20796281 0.50020749]\n",
      " [0.74341601 0.47424874]]\n",
      "Old Centroids --> \n",
      "[[0.20796281 0.50020749]\n",
      " [0.74341601 0.47424874]]\n",
      "New centroids --> \n",
      "[[0.21646144 0.49065694]\n",
      " [0.75642573 0.48312957]]\n",
      "Old Centroids --> \n",
      "[[0.21646144 0.49065694]\n",
      " [0.75642573 0.48312957]]\n",
      "New centroids --> \n",
      "[[0.21646144 0.49065694]\n",
      " [0.75642573 0.48312957]]\n"
     ]
    }
   ],
   "source": [
    "labels, centroids = kmeans_clustering(X, K, centroids)"
   ]
  },
  {
   "cell_type": "code",
   "execution_count": null,
   "id": "c4dcc5e3",
   "metadata": {},
   "outputs": [],
   "source": []
  }
 ],
 "metadata": {
  "kernelspec": {
   "display_name": "Python 3 (ipykernel)",
   "language": "python",
   "name": "python3"
  },
  "language_info": {
   "codemirror_mode": {
    "name": "ipython",
    "version": 3
   },
   "file_extension": ".py",
   "mimetype": "text/x-python",
   "name": "python",
   "nbconvert_exporter": "python",
   "pygments_lexer": "ipython3",
   "version": "3.10.9"
  }
 },
 "nbformat": 4,
 "nbformat_minor": 5
}
