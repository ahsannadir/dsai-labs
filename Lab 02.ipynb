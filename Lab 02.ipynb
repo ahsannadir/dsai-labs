{
 "cells": [
  {
   "cell_type": "code",
   "execution_count": 1,
   "id": "05f031e9",
   "metadata": {},
   "outputs": [
    {
     "name": "stdout",
     "output_type": "stream",
     "text": [
      "6\n",
      "20.0\n",
      "4.5\n",
      "-4.5\n",
      "-5\n",
      "1\n",
      "1.0\n",
      "1.0\n",
      "-1\n",
      "1\n",
      "-4.5\n",
      "19\n",
      "35\n"
     ]
    }
   ],
   "source": [
    "print(9 - 3)\n",
    "print(8 * 2.5)\n",
    "print(9 / 2)\n",
    "print(9 / - 2)\n",
    "print(9 // - 2)\n",
    "print(9 % 2)\n",
    "print(9.0 % 2)\n",
    "print(9 % 2.0)\n",
    "print(9 % - 2)\n",
    "print(-9 % 2)\n",
    "print(9 / - 2.0)\n",
    "print(4 + 3 * 5)\n",
    "print((4 + 3) * 5)"
   ]
  },
  {
   "cell_type": "code",
   "execution_count": 3,
   "id": "61d3b3a6",
   "metadata": {},
   "outputs": [
    {
     "name": "stdout",
     "output_type": "stream",
     "text": [
      "2---4---6---8---10\n"
     ]
    }
   ],
   "source": [
    "x = 2\n",
    "print(x, 2*x, 3*x, 4*x, 5*x, sep=\"---\")"
   ]
  },
  {
   "cell_type": "code",
   "execution_count": 14,
   "id": "b31fb010",
   "metadata": {},
   "outputs": [
    {
     "name": "stdout",
     "output_type": "stream",
     "text": [
      "Enter Two Numbers: 20 5\n",
      "The sum is 25\n",
      "The product is 100\n",
      "The difference is 15\n",
      "The quotient is 4.0\n",
      "The modulus is 0\n"
     ]
    }
   ],
   "source": [
    "x, y = input(\"Enter Two Numbers: \").split()\n",
    "x = int(x)\n",
    "y = int(y)\n",
    "\n",
    "print(f\"The sum is {x + y}\")\n",
    "print(f\"The product is {x * y}\")\n",
    "print(f\"The difference is {x - y}\")\n",
    "print(f\"The quotient is {x / y}\")\n",
    "print(f\"The modulus is {x % y}\")"
   ]
  },
  {
   "cell_type": "code",
   "execution_count": 16,
   "id": "699e0b28",
   "metadata": {},
   "outputs": [
    {
     "name": "stdout",
     "output_type": "stream",
     "text": [
      "Enter the circle's radius: 10\n",
      "The diameter is: 20\n",
      "The circumference is: 62.8318\n",
      "The area is: 314.159\n"
     ]
    }
   ],
   "source": [
    "rad = int(input(\"Enter the circle's radius: \"))\n",
    "pi = 3.14159\n",
    "\n",
    "print(f\"The diameter is: {2 * rad}\")\n",
    "print(f\"The circumference is: {2 * pi * rad}\")\n",
    "print(f\"The area is: {pi * rad * rad}\")"
   ]
  },
  {
   "cell_type": "code",
   "execution_count": 17,
   "id": "213f8213",
   "metadata": {
    "scrolled": true
   },
   "outputs": [
    {
     "name": "stdout",
     "output_type": "stream",
     "text": [
      "HHHHHH\n",
      "HHHHH\n",
      "HHH\n",
      "HH\n",
      "H\n"
     ]
    }
   ],
   "source": [
    "a = \"HHHHHH\"\n",
    "b = \"HHHHH\"\n",
    "c = \"HHH\"\n",
    "d = \"HH\"\n",
    "e = \"H\"\n",
    "\n",
    "print(a, b, c, d, e, sep=\"\\n\")"
   ]
  },
  {
   "cell_type": "code",
   "execution_count": 21,
   "id": "e496d2bd",
   "metadata": {},
   "outputs": [
    {
     "name": "stdout",
     "output_type": "stream",
     "text": [
      "Enter a number: 6\n",
      "6 is even\n"
     ]
    }
   ],
   "source": [
    "num = int(input(\"Enter a number: \"))\n",
    "\n",
    "if num % 2 == 0:\n",
    "    print(f\"{num} is even\")\n",
    "else:\n",
    "    print(f\"{num} is odd\")"
   ]
  },
  {
   "cell_type": "code",
   "execution_count": 27,
   "id": "3990504c",
   "metadata": {},
   "outputs": [
    {
     "name": "stdout",
     "output_type": "stream",
     "text": [
      "Enter three different integers: 99 33 66\n",
      "99 is the largest\n",
      "33 is the smallest\n"
     ]
    }
   ],
   "source": [
    "x, y, z = input(\"Enter three different integers: \").split()\n",
    "x = int(x)\n",
    "y = int(y)\n",
    "z = int(z)\n",
    "\n",
    "if x > y and x > z:\n",
    "    print(f\"{x} is the largest\")\n",
    "elif y > x and y > z:\n",
    "    print(f\"{y} is the largest\")\n",
    "elif z > x and z > y:\n",
    "    print(f\"{z} is the largest\")\n",
    "\n",
    "if x < y and x < z:\n",
    "    print(f\"{x} is the smallest\")\n",
    "elif y < x and y < z:\n",
    "    print(f\"{y} is the smallest\")\n",
    "elif z < x and z < y:\n",
    "    print(f\"{z} is the smallest\")"
   ]
  },
  {
   "cell_type": "code",
   "execution_count": 33,
   "id": "140c9efd",
   "metadata": {},
   "outputs": [],
   "source": [
    "# o. a = peoples\n",
    "# r. 4 += 7 / 2\n",
    "\n",
    "# Reason: We can only use assignment and arthimetic assignment operators to assign\n",
    "# values to variales. If we assign values to numbers and constants it will throw SyntaxError."
   ]
  },
  {
   "cell_type": "code",
   "execution_count": 46,
   "id": "5692f716",
   "metadata": {},
   "outputs": [
    {
     "name": "stdout",
     "output_type": "stream",
     "text": [
      "number\tsquare\tcube\n",
      "0\t0\t0\n",
      "1\t1\t1\n",
      "2\t4\t8\n",
      "3\t9\t27\n",
      "4\t16\t64\n",
      "5\t25\t125\n",
      "6\t36\t216\n",
      "7\t49\t343\n",
      "8\t64\t512\n",
      "9\t81\t729\n",
      "10\t100\t1000\n"
     ]
    }
   ],
   "source": [
    "print(\"number\", \"square\", \"cube\", sep=\"\\t\")\n",
    "for i in range (11):\n",
    "    print(i, i * i, i * i * i, sep=\"\\t\")"
   ]
  },
  {
   "cell_type": "code",
   "execution_count": 48,
   "id": "727653f8",
   "metadata": {},
   "outputs": [
    {
     "name": "stdout",
     "output_type": "stream",
     "text": [
      "x before swapping: 5\n",
      "y before swapping: 10\n",
      "x after swapping: 10\n",
      "y after swapping: 5\n"
     ]
    }
   ],
   "source": [
    "x = 5\n",
    "y = 10\n",
    "\n",
    "print(f\"x before swapping: {x}\")\n",
    "print(f\"y before swapping: {y}\")\n",
    "\n",
    "x, y = y, x\n",
    "\n",
    "print(f\"x after swapping: {x}\")\n",
    "print(f\"y after swapping: {y}\")"
   ]
  },
  {
   "cell_type": "code",
   "execution_count": 1,
   "id": "a2fdc3c1",
   "metadata": {},
   "outputs": [
    {
     "name": "stdout",
     "output_type": "stream",
     "text": [
      "Enter any five digit number: 12345\n",
      "Reversed Number: 54321\n"
     ]
    }
   ],
   "source": [
    "num = int(input(\"Enter any five digit number: \"))\n",
    "\n",
    "reversed_number = 0\n",
    "\n",
    "while num > 0:\n",
    "    last_digit = num % 10  \n",
    "    reversed_number = (reversed_number * 10) + last_digit  \n",
    "    num //= 10\n",
    "\n",
    "print(f\"Reversed Number: {reversed_number}\")"
   ]
  },
  {
   "cell_type": "code",
   "execution_count": 19,
   "id": "70323497",
   "metadata": {
    "scrolled": true
   },
   "outputs": [
    {
     "name": "stdout",
     "output_type": "stream",
     "text": [
      "************ \n",
      "*          *\n",
      "*          *\n",
      "*          *\n",
      "*          *\n",
      "*          *\n",
      "*          *\n",
      "*          *\n",
      "*          *\n",
      "*          *\n",
      "*          *\n",
      "************"
     ]
    }
   ],
   "source": [
    "for i in range (12):\n",
    "    print(\"*\", end=\"\")\n",
    "\n",
    "print(\" \")\n",
    "    \n",
    "for j in range (10):\n",
    "    print(\"*          *\")\n",
    "    \n",
    "for i in range (12):\n",
    "    print(\"*\", end=\"\")"
   ]
  },
  {
   "cell_type": "code",
   "execution_count": 21,
   "id": "8b00fcfa",
   "metadata": {},
   "outputs": [
    {
     "name": "stdout",
     "output_type": "stream",
     "text": [
      "   ***   \n",
      " *     * \n",
      "*       *\n",
      "*       *\n",
      "*       *\n",
      "*       *\n",
      "*       *\n",
      " *     * \n",
      "   ***   \n"
     ]
    }
   ],
   "source": [
    "print(\"   ***   \")\n",
    "print(\" *     * \")\n",
    "\n",
    "for i in range(5):\n",
    "    print(\"*       *\")\n",
    "\n",
    "print(\" *     * \")\n",
    "print(\"   ***   \")"
   ]
  },
  {
   "cell_type": "code",
   "execution_count": 22,
   "id": "17c1555c",
   "metadata": {},
   "outputs": [
    {
     "name": "stdout",
     "output_type": "stream",
     "text": [
      "  *  \n",
      " *** \n",
      "*****\n",
      "  *  \n",
      "  *  \n",
      "  *  \n",
      "  *  \n",
      "  *  \n",
      "  *  \n",
      "  *  \n",
      "  *  \n",
      "  *  \n",
      "  *  \n"
     ]
    }
   ],
   "source": [
    "print(\"  *  \", \" *** \", \"*****\", sep=\"\\n\")\n",
    "\n",
    "for i in range(10):\n",
    "    print(\"  *  \")"
   ]
  },
  {
   "cell_type": "code",
   "execution_count": 25,
   "id": "bcbdf806",
   "metadata": {},
   "outputs": [
    {
     "name": "stdout",
     "output_type": "stream",
     "text": [
      "    *\n",
      "   * *\n",
      "  *   *\n",
      " *     *\n",
      "*       *\n",
      " *     *\n",
      "  *   *\n",
      "   * *\n",
      "    *\n"
     ]
    }
   ],
   "source": [
    "for i in range(5):\n",
    "    print(\" \" * (5 - i - 1) + \"*\" + \" \"*(2 * i - 1) + \"*\" * (i != 0))\n",
    "for i in range(5 - 2, -1 , -1):\n",
    "    print(\" \" * (5 - i - 1) + \"*\" + \" \" * (2 * i - 1) + \"*\" * (i != 0))"
   ]
  },
  {
   "cell_type": "code",
   "execution_count": 33,
   "id": "dc550dc8",
   "metadata": {},
   "outputs": [
    {
     "name": "stdout",
     "output_type": "stream",
     "text": [
      "Enter three numbers: 3 4 5\n",
      "The Numbers are sides of right triangle\n"
     ]
    }
   ],
   "source": [
    "from math import sqrt\n",
    "\n",
    "x, y, z = input(\"Enter three numbers: \").split()\n",
    "\n",
    "x = int(x)\n",
    "y = int(y)\n",
    "z = int(z)\n",
    "\n",
    "sides = [x, y, z]\n",
    "sides.sort()\n",
    "\n",
    "\n",
    "if sides[0]**2 + sides[1]**2 == sides[2]**2:\n",
    "    print(\"The Numbers are sides of right triangle\")\n",
    "else:\n",
    "    print(\"The Numbers are not sides of right triangle\")"
   ]
  },
  {
   "cell_type": "code",
   "execution_count": 1,
   "id": "a483fec5",
   "metadata": {},
   "outputs": [
    {
     "name": "stdout",
     "output_type": "stream",
     "text": [
      "Enter a number between 0.0 & 1.0: 0.9\n",
      "A\n"
     ]
    }
   ],
   "source": [
    "num = float(input(\"Enter a number between 0.0 & 1.0: \"))\n",
    "\n",
    "if num >= 0.9:\n",
    "    print(\"A\")\n",
    "elif num >= 0.8:\n",
    "    print(\"B\")\n",
    "elif num >= 0.7:\n",
    "    print(\"C\")\n",
    "elif num >= 0.6:\n",
    "    print(\"D\")\n",
    "elif num < 0.6:\n",
    "    print(\"F\")\n",
    "else:\n",
    "    print(\"Error\")"
   ]
  }
 ],
 "metadata": {
  "kernelspec": {
   "display_name": "Python 3 (ipykernel)",
   "language": "python",
   "name": "python3"
  },
  "language_info": {
   "codemirror_mode": {
    "name": "ipython",
    "version": 3
   },
   "file_extension": ".py",
   "mimetype": "text/x-python",
   "name": "python",
   "nbconvert_exporter": "python",
   "pygments_lexer": "ipython3",
   "version": "3.10.9"
  }
 },
 "nbformat": 4,
 "nbformat_minor": 5
}
