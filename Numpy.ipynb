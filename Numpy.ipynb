{
 "cells": [
  {
   "cell_type": "code",
   "execution_count": 1,
   "id": "af9cd534",
   "metadata": {},
   "outputs": [],
   "source": [
    "import numpy as np"
   ]
  },
  {
   "cell_type": "markdown",
   "id": "cf159648",
   "metadata": {},
   "source": [
    "### NUMPY - ARRAYS"
   ]
  },
  {
   "cell_type": "code",
   "execution_count": 3,
   "id": "36458b51",
   "metadata": {},
   "outputs": [],
   "source": [
    "list = [[1, 2, 3], [4, 5, 6], [7, 8, 9]]"
   ]
  },
  {
   "cell_type": "code",
   "execution_count": 6,
   "id": "254dfefc",
   "metadata": {},
   "outputs": [],
   "source": [
    "array = np.array(list)"
   ]
  },
  {
   "cell_type": "code",
   "execution_count": 8,
   "id": "86ae6d63",
   "metadata": {},
   "outputs": [
    {
     "data": {
      "text/plain": [
       "(3, 3)"
      ]
     },
     "execution_count": 8,
     "metadata": {},
     "output_type": "execute_result"
    }
   ],
   "source": [
    "array.shape"
   ]
  },
  {
   "cell_type": "code",
   "execution_count": 11,
   "id": "4717e671",
   "metadata": {},
   "outputs": [
    {
     "data": {
      "text/plain": [
       "array([ 0,  5, 10, 15, 20, 25, 30, 35, 40, 45, 50])"
      ]
     },
     "execution_count": 11,
     "metadata": {},
     "output_type": "execute_result"
    }
   ],
   "source": [
    "new_array = np.arange(0, 51, 5)\n",
    "new_array"
   ]
  },
  {
   "cell_type": "code",
   "execution_count": 12,
   "id": "54999bc2",
   "metadata": {},
   "outputs": [
    {
     "data": {
      "text/plain": [
       "array([0., 0., 0., 0., 0., 0., 0., 0.])"
      ]
     },
     "execution_count": 12,
     "metadata": {},
     "output_type": "execute_result"
    }
   ],
   "source": [
    "np.zeros(8)"
   ]
  },
  {
   "cell_type": "code",
   "execution_count": 17,
   "id": "71ad6dfa",
   "metadata": {},
   "outputs": [
    {
     "data": {
      "text/plain": [
       "array([[0, 0, 0, 0, 0, 0, 0, 0, 0],\n",
       "       [0, 0, 0, 0, 0, 0, 0, 0, 0],\n",
       "       [0, 0, 0, 0, 0, 0, 0, 0, 0],\n",
       "       [0, 0, 0, 0, 0, 0, 0, 0, 0],\n",
       "       [0, 0, 0, 0, 0, 0, 0, 0, 0]])"
      ]
     },
     "execution_count": 17,
     "metadata": {},
     "output_type": "execute_result"
    }
   ],
   "source": [
    "np.zeros((5, 9), dtype=int)"
   ]
  },
  {
   "cell_type": "code",
   "execution_count": 19,
   "id": "1638acb4",
   "metadata": {},
   "outputs": [
    {
     "data": {
      "text/plain": [
       "array([['1', '1', '1', '1', '1'],\n",
       "       ['1', '1', '1', '1', '1'],\n",
       "       ['1', '1', '1', '1', '1'],\n",
       "       ['1', '1', '1', '1', '1'],\n",
       "       ['1', '1', '1', '1', '1']], dtype='<U1')"
      ]
     },
     "execution_count": 19,
     "metadata": {},
     "output_type": "execute_result"
    }
   ],
   "source": [
    "np.ones((5, 5), dtype=str)"
   ]
  },
  {
   "cell_type": "code",
   "execution_count": 23,
   "id": "092cac02",
   "metadata": {},
   "outputs": [
    {
     "data": {
      "text/plain": [
       "array([ 0.,  5., 10.])"
      ]
     },
     "execution_count": 23,
     "metadata": {},
     "output_type": "execute_result"
    }
   ],
   "source": [
    "np.linspace(0, 10, 3) #Linear Space"
   ]
  },
  {
   "cell_type": "code",
   "execution_count": 24,
   "id": "e4510a74",
   "metadata": {},
   "outputs": [
    {
     "data": {
      "text/plain": [
       "array([[1., 0., 0., 0., 0.],\n",
       "       [0., 1., 0., 0., 0.],\n",
       "       [0., 0., 1., 0., 0.],\n",
       "       [0., 0., 0., 1., 0.],\n",
       "       [0., 0., 0., 0., 1.]])"
      ]
     },
     "execution_count": 24,
     "metadata": {},
     "output_type": "execute_result"
    }
   ],
   "source": [
    "np.eye(5) #Identity Matrix"
   ]
  },
  {
   "cell_type": "code",
   "execution_count": 25,
   "id": "db748fb5",
   "metadata": {},
   "outputs": [
    {
     "data": {
      "text/plain": [
       "array([0.25793962, 0.3332152 , 0.24222555, 0.70557484, 0.01342498])"
      ]
     },
     "execution_count": 25,
     "metadata": {},
     "output_type": "execute_result"
    }
   ],
   "source": [
    "np.random.rand(5) #Random Numbers Between 0 & 1"
   ]
  },
  {
   "cell_type": "code",
   "execution_count": 29,
   "id": "69656866",
   "metadata": {},
   "outputs": [
    {
     "data": {
      "text/plain": [
       "array([[0.45423054, 0.78815177],\n",
       "       [0.64179971, 0.60913549],\n",
       "       [0.16542694, 0.99604987],\n",
       "       [0.55289034, 0.45932948],\n",
       "       [0.34542583, 0.61528874]])"
      ]
     },
     "execution_count": 29,
     "metadata": {},
     "output_type": "execute_result"
    }
   ],
   "source": [
    "np.random.rand(5, 2)"
   ]
  },
  {
   "cell_type": "code",
   "execution_count": 30,
   "id": "be7a01e6",
   "metadata": {},
   "outputs": [
    {
     "data": {
      "text/plain": [
       "array([ 0.82761189,  1.8029269 ,  0.04523565, -0.77487227,  1.01640307])"
      ]
     },
     "execution_count": 30,
     "metadata": {},
     "output_type": "execute_result"
    }
   ],
   "source": [
    "np.random.randn(5)"
   ]
  },
  {
   "cell_type": "code",
   "execution_count": 32,
   "id": "53cfd116",
   "metadata": {},
   "outputs": [
    {
     "data": {
      "text/plain": [
       "array([[ 0.32742019,  0.65504342],\n",
       "       [-0.38520504,  0.66241025],\n",
       "       [ 1.72912217,  0.7748044 ]])"
      ]
     },
     "execution_count": 32,
     "metadata": {},
     "output_type": "execute_result"
    }
   ],
   "source": [
    "np.random.randn(3,2)"
   ]
  },
  {
   "cell_type": "code",
   "execution_count": 33,
   "id": "43a6fea7",
   "metadata": {},
   "outputs": [
    {
     "data": {
      "text/plain": [
       "array([20, 12, 43, 37,  9, 41, 22,  8,  5,  5])"
      ]
     },
     "execution_count": 33,
     "metadata": {},
     "output_type": "execute_result"
    }
   ],
   "source": [
    "np.random.randint(5, 50, 10)"
   ]
  },
  {
   "cell_type": "code",
   "execution_count": 34,
   "id": "346144c2",
   "metadata": {},
   "outputs": [
    {
     "data": {
      "text/plain": [
       "array([[49, 37, 14, 49, 24],\n",
       "       [46, 45, 26,  6, 42]])"
      ]
     },
     "execution_count": 34,
     "metadata": {},
     "output_type": "execute_result"
    }
   ],
   "source": [
    "np.random.randint(5, 50, (2, 5))"
   ]
  },
  {
   "cell_type": "code",
   "execution_count": 35,
   "id": "56049cfd",
   "metadata": {},
   "outputs": [
    {
     "data": {
      "text/plain": [
       "array([0.37454012, 0.95071431, 0.73199394, 0.59865848])"
      ]
     },
     "execution_count": 35,
     "metadata": {},
     "output_type": "execute_result"
    }
   ],
   "source": [
    "np.random.seed(42)\n",
    "np.random.rand(4)"
   ]
  },
  {
   "cell_type": "code",
   "execution_count": 39,
   "id": "78b48539",
   "metadata": {},
   "outputs": [],
   "source": [
    "arr = np.arange(0, 25)"
   ]
  },
  {
   "cell_type": "code",
   "execution_count": 40,
   "id": "fa09a56a",
   "metadata": {},
   "outputs": [
    {
     "data": {
      "text/plain": [
       "array([[ 0,  1,  2,  3,  4],\n",
       "       [ 5,  6,  7,  8,  9],\n",
       "       [10, 11, 12, 13, 14],\n",
       "       [15, 16, 17, 18, 19],\n",
       "       [20, 21, 22, 23, 24]])"
      ]
     },
     "execution_count": 40,
     "metadata": {},
     "output_type": "execute_result"
    }
   ],
   "source": [
    "arr.reshape(5, 5)"
   ]
  },
  {
   "cell_type": "code",
   "execution_count": 43,
   "id": "58624528",
   "metadata": {},
   "outputs": [
    {
     "data": {
      "text/plain": [
       "array([ 57,  21,  88,  48,  90,  58,  41,  91,  59,  79,  14,  61,  61,\n",
       "        46,  61,  50,  54,  63,   2, 100])"
      ]
     },
     "execution_count": 43,
     "metadata": {},
     "output_type": "execute_result"
    }
   ],
   "source": [
    "rndarr = np.random.randint(0, 101, 20)\n",
    "rndarr"
   ]
  },
  {
   "cell_type": "code",
   "execution_count": 44,
   "id": "97607c12",
   "metadata": {},
   "outputs": [
    {
     "data": {
      "text/plain": [
       "100"
      ]
     },
     "execution_count": 44,
     "metadata": {},
     "output_type": "execute_result"
    }
   ],
   "source": [
    "rndarr.max()"
   ]
  },
  {
   "cell_type": "code",
   "execution_count": 45,
   "id": "3b204318",
   "metadata": {},
   "outputs": [
    {
     "data": {
      "text/plain": [
       "2"
      ]
     },
     "execution_count": 45,
     "metadata": {},
     "output_type": "execute_result"
    }
   ],
   "source": [
    "rndarr.min()"
   ]
  },
  {
   "cell_type": "code",
   "execution_count": 48,
   "id": "b21436df",
   "metadata": {},
   "outputs": [
    {
     "data": {
      "text/plain": [
       "19"
      ]
     },
     "execution_count": 48,
     "metadata": {},
     "output_type": "execute_result"
    }
   ],
   "source": [
    "rndarr.argmax() #Returns index of the Maximum Vaue."
   ]
  },
  {
   "cell_type": "code",
   "execution_count": 50,
   "id": "bc21db87",
   "metadata": {},
   "outputs": [
    {
     "data": {
      "text/plain": [
       "18"
      ]
     },
     "execution_count": 50,
     "metadata": {},
     "output_type": "execute_result"
    }
   ],
   "source": [
    "rndarr.argmin() #Returns index of the Minimum Vaue."
   ]
  },
  {
   "cell_type": "code",
   "execution_count": 51,
   "id": "d4d7c865",
   "metadata": {},
   "outputs": [
    {
     "data": {
      "text/plain": [
       "dtype('int32')"
      ]
     },
     "execution_count": 51,
     "metadata": {},
     "output_type": "execute_result"
    }
   ],
   "source": [
    "rndarr.dtype"
   ]
  },
  {
   "cell_type": "markdown",
   "id": "b1db9e42",
   "metadata": {},
   "source": [
    "### NUMPY - INDEXING & SELECTION"
   ]
  },
  {
   "cell_type": "code",
   "execution_count": 3,
   "id": "17159814",
   "metadata": {},
   "outputs": [],
   "source": [
    "arr = np.arange(0, 11)"
   ]
  },
  {
   "cell_type": "code",
   "execution_count": 4,
   "id": "45c2677c",
   "metadata": {},
   "outputs": [
    {
     "data": {
      "text/plain": [
       "array([ 0,  1,  2,  3,  4,  5,  6,  7,  8,  9, 10])"
      ]
     },
     "execution_count": 4,
     "metadata": {},
     "output_type": "execute_result"
    }
   ],
   "source": [
    "arr"
   ]
  },
  {
   "cell_type": "code",
   "execution_count": 5,
   "id": "2d9436c0",
   "metadata": {},
   "outputs": [
    {
     "data": {
      "text/plain": [
       "8"
      ]
     },
     "execution_count": 5,
     "metadata": {},
     "output_type": "execute_result"
    }
   ],
   "source": [
    "arr[8]"
   ]
  },
  {
   "cell_type": "code",
   "execution_count": 6,
   "id": "50adf536",
   "metadata": {},
   "outputs": [
    {
     "data": {
      "text/plain": [
       "array([1, 2, 3, 4])"
      ]
     },
     "execution_count": 6,
     "metadata": {},
     "output_type": "execute_result"
    }
   ],
   "source": [
    "arr[1:5]"
   ]
  },
  {
   "cell_type": "code",
   "execution_count": 7,
   "id": "db883eca",
   "metadata": {},
   "outputs": [
    {
     "data": {
      "text/plain": [
       "array([0, 1, 2, 3, 4])"
      ]
     },
     "execution_count": 7,
     "metadata": {},
     "output_type": "execute_result"
    }
   ],
   "source": [
    "arr[0:5]"
   ]
  },
  {
   "cell_type": "code",
   "execution_count": 8,
   "id": "178655cd",
   "metadata": {},
   "outputs": [
    {
     "data": {
      "text/plain": [
       "array([0, 1, 2, 3, 4])"
      ]
     },
     "execution_count": 8,
     "metadata": {},
     "output_type": "execute_result"
    }
   ],
   "source": [
    "arr[:5]"
   ]
  },
  {
   "cell_type": "code",
   "execution_count": 9,
   "id": "b5a6277e",
   "metadata": {},
   "outputs": [
    {
     "data": {
      "text/plain": [
       "array([ 5,  6,  7,  8,  9, 10])"
      ]
     },
     "execution_count": 9,
     "metadata": {},
     "output_type": "execute_result"
    }
   ],
   "source": [
    "arr[5:]"
   ]
  },
  {
   "cell_type": "markdown",
   "id": "74838015",
   "metadata": {},
   "source": [
    "### BROADCASTING"
   ]
  },
  {
   "cell_type": "code",
   "execution_count": 10,
   "id": "6d8fcff3",
   "metadata": {},
   "outputs": [],
   "source": [
    "arr[0:5] = 100"
   ]
  },
  {
   "cell_type": "code",
   "execution_count": 11,
   "id": "7f2671a2",
   "metadata": {},
   "outputs": [
    {
     "data": {
      "text/plain": [
       "array([100, 100, 100, 100, 100,   5,   6,   7,   8,   9,  10])"
      ]
     },
     "execution_count": 11,
     "metadata": {},
     "output_type": "execute_result"
    }
   ],
   "source": [
    "arr"
   ]
  },
  {
   "cell_type": "code",
   "execution_count": 12,
   "id": "5a869e90",
   "metadata": {},
   "outputs": [],
   "source": [
    "arr = np.arange(0, 11)"
   ]
  },
  {
   "cell_type": "code",
   "execution_count": 13,
   "id": "06288162",
   "metadata": {},
   "outputs": [],
   "source": [
    "slice_of_arr = arr[0:5]"
   ]
  },
  {
   "cell_type": "code",
   "execution_count": 14,
   "id": "655865dc",
   "metadata": {},
   "outputs": [
    {
     "data": {
      "text/plain": [
       "array([0, 1, 2, 3, 4])"
      ]
     },
     "execution_count": 14,
     "metadata": {},
     "output_type": "execute_result"
    }
   ],
   "source": [
    "slice_of_arr"
   ]
  },
  {
   "cell_type": "code",
   "execution_count": 15,
   "id": "5208415a",
   "metadata": {},
   "outputs": [
    {
     "data": {
      "text/plain": [
       "array([ 0,  1,  2,  3,  4,  5,  6,  7,  8,  9, 10])"
      ]
     },
     "execution_count": 15,
     "metadata": {},
     "output_type": "execute_result"
    }
   ],
   "source": [
    "arr"
   ]
  },
  {
   "cell_type": "code",
   "execution_count": 16,
   "id": "d3149db5",
   "metadata": {},
   "outputs": [],
   "source": [
    "slice_of_arr[:] = 99"
   ]
  },
  {
   "cell_type": "code",
   "execution_count": 17,
   "id": "946b5a0f",
   "metadata": {},
   "outputs": [
    {
     "data": {
      "text/plain": [
       "array([99, 99, 99, 99, 99])"
      ]
     },
     "execution_count": 17,
     "metadata": {},
     "output_type": "execute_result"
    }
   ],
   "source": [
    "slice_of_arr # The slice of array acts as a pointer to the Original array."
   ]
  },
  {
   "cell_type": "code",
   "execution_count": 18,
   "id": "12e8f3df",
   "metadata": {},
   "outputs": [
    {
     "data": {
      "text/plain": [
       "array([99, 99, 99, 99, 99,  5,  6,  7,  8,  9, 10])"
      ]
     },
     "execution_count": 18,
     "metadata": {},
     "output_type": "execute_result"
    }
   ],
   "source": [
    "arr"
   ]
  },
  {
   "cell_type": "code",
   "execution_count": 19,
   "id": "47a1f659",
   "metadata": {},
   "outputs": [],
   "source": [
    "arr_copy = arr.copy()"
   ]
  },
  {
   "cell_type": "code",
   "execution_count": 20,
   "id": "999a7b1a",
   "metadata": {},
   "outputs": [],
   "source": [
    "arr_copy[:] = 100"
   ]
  },
  {
   "cell_type": "code",
   "execution_count": 21,
   "id": "d20136fe",
   "metadata": {},
   "outputs": [
    {
     "data": {
      "text/plain": [
       "array([100, 100, 100, 100, 100, 100, 100, 100, 100, 100, 100])"
      ]
     },
     "execution_count": 21,
     "metadata": {},
     "output_type": "execute_result"
    }
   ],
   "source": [
    "arr_copy"
   ]
  },
  {
   "cell_type": "code",
   "execution_count": 22,
   "id": "5927ea7e",
   "metadata": {},
   "outputs": [
    {
     "data": {
      "text/plain": [
       "array([99, 99, 99, 99, 99,  5,  6,  7,  8,  9, 10])"
      ]
     },
     "execution_count": 22,
     "metadata": {},
     "output_type": "execute_result"
    }
   ],
   "source": [
    "arr"
   ]
  },
  {
   "cell_type": "markdown",
   "id": "5763202a",
   "metadata": {},
   "source": [
    "### 2D ARRAYS - SELECTION / INDEXING"
   ]
  },
  {
   "cell_type": "code",
   "execution_count": 23,
   "id": "d1e241f2",
   "metadata": {},
   "outputs": [],
   "source": [
    "arr_2d = np.array([[5, 10, 15], [20, 25, 30], [35, 40, 45]])"
   ]
  },
  {
   "cell_type": "code",
   "execution_count": 24,
   "id": "94a50534",
   "metadata": {},
   "outputs": [
    {
     "data": {
      "text/plain": [
       "array([[ 5, 10, 15],\n",
       "       [20, 25, 30],\n",
       "       [35, 40, 45]])"
      ]
     },
     "execution_count": 24,
     "metadata": {},
     "output_type": "execute_result"
    }
   ],
   "source": [
    "arr_2d"
   ]
  },
  {
   "cell_type": "code",
   "execution_count": 25,
   "id": "ba3dbcd1",
   "metadata": {},
   "outputs": [
    {
     "data": {
      "text/plain": [
       "(3, 3)"
      ]
     },
     "execution_count": 25,
     "metadata": {},
     "output_type": "execute_result"
    }
   ],
   "source": [
    "arr_2d.shape"
   ]
  },
  {
   "cell_type": "code",
   "execution_count": 26,
   "id": "a6cfcb6f",
   "metadata": {},
   "outputs": [
    {
     "data": {
      "text/plain": [
       "array([ 5, 10, 15])"
      ]
     },
     "execution_count": 26,
     "metadata": {},
     "output_type": "execute_result"
    }
   ],
   "source": [
    "arr_2d[0]"
   ]
  },
  {
   "cell_type": "code",
   "execution_count": 27,
   "id": "d89cd9c2",
   "metadata": {},
   "outputs": [
    {
     "data": {
      "text/plain": [
       "array([35, 40, 45])"
      ]
     },
     "execution_count": 27,
     "metadata": {},
     "output_type": "execute_result"
    }
   ],
   "source": [
    "arr_2d[2]"
   ]
  },
  {
   "cell_type": "code",
   "execution_count": 28,
   "id": "eed2e9cd",
   "metadata": {},
   "outputs": [
    {
     "data": {
      "text/plain": [
       "25"
      ]
     },
     "execution_count": 28,
     "metadata": {},
     "output_type": "execute_result"
    }
   ],
   "source": [
    "arr_2d[1][1]"
   ]
  },
  {
   "cell_type": "code",
   "execution_count": 29,
   "id": "0df29d1e",
   "metadata": {},
   "outputs": [
    {
     "data": {
      "text/plain": [
       "25"
      ]
     },
     "execution_count": 29,
     "metadata": {},
     "output_type": "execute_result"
    }
   ],
   "source": [
    "arr_2d[1, 1]"
   ]
  },
  {
   "cell_type": "code",
   "execution_count": 30,
   "id": "11fd6404",
   "metadata": {},
   "outputs": [
    {
     "data": {
      "text/plain": [
       "15"
      ]
     },
     "execution_count": 30,
     "metadata": {},
     "output_type": "execute_result"
    }
   ],
   "source": [
    " arr_2d[0, 2]"
   ]
  },
  {
   "cell_type": "code",
   "execution_count": 31,
   "id": "7e8c9205",
   "metadata": {},
   "outputs": [
    {
     "data": {
      "text/plain": [
       "array([[ 5, 10, 15],\n",
       "       [20, 25, 30]])"
      ]
     },
     "execution_count": 31,
     "metadata": {},
     "output_type": "execute_result"
    }
   ],
   "source": [
    "arr_2d[:2]"
   ]
  },
  {
   "cell_type": "code",
   "execution_count": 32,
   "id": "ea0356d8",
   "metadata": {},
   "outputs": [
    {
     "data": {
      "text/plain": [
       "array([[10, 15],\n",
       "       [25, 30]])"
      ]
     },
     "execution_count": 32,
     "metadata": {},
     "output_type": "execute_result"
    }
   ],
   "source": [
    "arr_2d[:2, 1:]"
   ]
  },
  {
   "cell_type": "markdown",
   "id": "7c639644",
   "metadata": {},
   "source": [
    "### CONDITIONAL SELECTION"
   ]
  },
  {
   "cell_type": "code",
   "execution_count": 33,
   "id": "279f7b8a",
   "metadata": {},
   "outputs": [],
   "source": [
    "arr = np.arange(1, 11)"
   ]
  },
  {
   "cell_type": "code",
   "execution_count": 34,
   "id": "e521669a",
   "metadata": {},
   "outputs": [
    {
     "data": {
      "text/plain": [
       "array([ 1,  2,  3,  4,  5,  6,  7,  8,  9, 10])"
      ]
     },
     "execution_count": 34,
     "metadata": {},
     "output_type": "execute_result"
    }
   ],
   "source": [
    "arr"
   ]
  },
  {
   "cell_type": "code",
   "execution_count": 35,
   "id": "d87c3a48",
   "metadata": {},
   "outputs": [
    {
     "data": {
      "text/plain": [
       "array([False, False, False, False,  True,  True,  True,  True,  True,\n",
       "        True])"
      ]
     },
     "execution_count": 35,
     "metadata": {},
     "output_type": "execute_result"
    }
   ],
   "source": [
    "arr > 4"
   ]
  },
  {
   "cell_type": "code",
   "execution_count": 36,
   "id": "c8735b35",
   "metadata": {},
   "outputs": [],
   "source": [
    "bool_arr = arr > 4"
   ]
  },
  {
   "cell_type": "code",
   "execution_count": 37,
   "id": "501d2aa5",
   "metadata": {},
   "outputs": [
    {
     "data": {
      "text/plain": [
       "array([False, False, False, False,  True,  True,  True,  True,  True,\n",
       "        True])"
      ]
     },
     "execution_count": 37,
     "metadata": {},
     "output_type": "execute_result"
    }
   ],
   "source": [
    "bool_arr"
   ]
  },
  {
   "cell_type": "code",
   "execution_count": 38,
   "id": "60cb8299",
   "metadata": {},
   "outputs": [
    {
     "data": {
      "text/plain": [
       "array([ 5,  6,  7,  8,  9, 10])"
      ]
     },
     "execution_count": 38,
     "metadata": {},
     "output_type": "execute_result"
    }
   ],
   "source": [
    "arr[bool_arr]"
   ]
  },
  {
   "cell_type": "code",
   "execution_count": 39,
   "id": "7b09555d",
   "metadata": {},
   "outputs": [
    {
     "data": {
      "text/plain": [
       "array([ 5,  6,  7,  8,  9, 10])"
      ]
     },
     "execution_count": 39,
     "metadata": {},
     "output_type": "execute_result"
    }
   ],
   "source": [
    "arr[arr > 4]"
   ]
  },
  {
   "cell_type": "markdown",
   "id": "1984c1b0",
   "metadata": {},
   "source": [
    "### NUMPY - ARRAY OPERATIONS"
   ]
  },
  {
   "cell_type": "code",
   "execution_count": 2,
   "id": "637ed6c5",
   "metadata": {},
   "outputs": [],
   "source": [
    "arr = np.arange(0, 10)"
   ]
  },
  {
   "cell_type": "code",
   "execution_count": 3,
   "id": "f9e59cff",
   "metadata": {},
   "outputs": [
    {
     "data": {
      "text/plain": [
       "array([0, 1, 2, 3, 4, 5, 6, 7, 8, 9])"
      ]
     },
     "execution_count": 3,
     "metadata": {},
     "output_type": "execute_result"
    }
   ],
   "source": [
    "arr"
   ]
  },
  {
   "cell_type": "code",
   "execution_count": 4,
   "id": "4197b491",
   "metadata": {},
   "outputs": [
    {
     "data": {
      "text/plain": [
       "array([10, 11, 12, 13, 14, 15, 16, 17, 18, 19])"
      ]
     },
     "execution_count": 4,
     "metadata": {},
     "output_type": "execute_result"
    }
   ],
   "source": [
    "arr + 10"
   ]
  },
  {
   "cell_type": "code",
   "execution_count": 5,
   "id": "39b15346",
   "metadata": {},
   "outputs": [
    {
     "data": {
      "text/plain": [
       "array([-3, -2, -1,  0,  1,  2,  3,  4,  5,  6])"
      ]
     },
     "execution_count": 5,
     "metadata": {},
     "output_type": "execute_result"
    }
   ],
   "source": [
    "arr - 3"
   ]
  },
  {
   "cell_type": "code",
   "execution_count": 6,
   "id": "81a9a8f6",
   "metadata": {},
   "outputs": [
    {
     "data": {
      "text/plain": [
       "array([ 0,  2,  4,  6,  8, 10, 12, 14, 16, 18])"
      ]
     },
     "execution_count": 6,
     "metadata": {},
     "output_type": "execute_result"
    }
   ],
   "source": [
    "arr + arr"
   ]
  },
  {
   "cell_type": "code",
   "execution_count": 7,
   "id": "53b1f3bb",
   "metadata": {},
   "outputs": [
    {
     "data": {
      "text/plain": [
       "array([ 0,  1,  4,  9, 16, 25, 36, 49, 64, 81])"
      ]
     },
     "execution_count": 7,
     "metadata": {},
     "output_type": "execute_result"
    }
   ],
   "source": [
    "arr * arr"
   ]
  },
  {
   "cell_type": "code",
   "execution_count": 8,
   "id": "0e272f2c",
   "metadata": {},
   "outputs": [
    {
     "data": {
      "text/plain": [
       "array([0, 0, 0, 0, 0, 0, 0, 0, 0, 0])"
      ]
     },
     "execution_count": 8,
     "metadata": {},
     "output_type": "execute_result"
    }
   ],
   "source": [
    "arr - arr"
   ]
  },
  {
   "cell_type": "code",
   "execution_count": 9,
   "id": "e6d84d35",
   "metadata": {},
   "outputs": [
    {
     "data": {
      "text/plain": [
       "array([0.        , 1.        , 1.41421356, 1.73205081, 2.        ,\n",
       "       2.23606798, 2.44948974, 2.64575131, 2.82842712, 3.        ])"
      ]
     },
     "execution_count": 9,
     "metadata": {},
     "output_type": "execute_result"
    }
   ],
   "source": [
    "np.sqrt(arr)"
   ]
  },
  {
   "cell_type": "code",
   "execution_count": 10,
   "id": "a99317a7",
   "metadata": {},
   "outputs": [
    {
     "data": {
      "text/plain": [
       "array([ 0.        ,  0.84147098,  0.90929743,  0.14112001, -0.7568025 ,\n",
       "       -0.95892427, -0.2794155 ,  0.6569866 ,  0.98935825,  0.41211849])"
      ]
     },
     "execution_count": 10,
     "metadata": {},
     "output_type": "execute_result"
    }
   ],
   "source": [
    "np.sin(arr)"
   ]
  },
  {
   "cell_type": "code",
   "execution_count": 12,
   "id": "957f83fb",
   "metadata": {},
   "outputs": [
    {
     "data": {
      "text/plain": [
       "45"
      ]
     },
     "execution_count": 12,
     "metadata": {},
     "output_type": "execute_result"
    }
   ],
   "source": [
    "arr.sum()"
   ]
  },
  {
   "cell_type": "code",
   "execution_count": 13,
   "id": "6e5ca233",
   "metadata": {},
   "outputs": [
    {
     "data": {
      "text/plain": [
       "4.5"
      ]
     },
     "execution_count": 13,
     "metadata": {},
     "output_type": "execute_result"
    }
   ],
   "source": [
    "arr.mean()"
   ]
  },
  {
   "cell_type": "code",
   "execution_count": 14,
   "id": "f56b9da7",
   "metadata": {},
   "outputs": [
    {
     "data": {
      "text/plain": [
       "9"
      ]
     },
     "execution_count": 14,
     "metadata": {},
     "output_type": "execute_result"
    }
   ],
   "source": [
    "arr.max()"
   ]
  },
  {
   "cell_type": "code",
   "execution_count": 16,
   "id": "70c6afad",
   "metadata": {},
   "outputs": [
    {
     "data": {
      "text/plain": [
       "0"
      ]
     },
     "execution_count": 16,
     "metadata": {},
     "output_type": "execute_result"
    }
   ],
   "source": [
    "arr.min()"
   ]
  },
  {
   "cell_type": "code",
   "execution_count": 17,
   "id": "5844b679",
   "metadata": {},
   "outputs": [
    {
     "data": {
      "text/plain": [
       "8.25"
      ]
     },
     "execution_count": 17,
     "metadata": {},
     "output_type": "execute_result"
    }
   ],
   "source": [
    "arr.var() #Variance"
   ]
  },
  {
   "cell_type": "code",
   "execution_count": 18,
   "id": "45b469ee",
   "metadata": {},
   "outputs": [
    {
     "data": {
      "text/plain": [
       "2.8722813232690143"
      ]
     },
     "execution_count": 18,
     "metadata": {},
     "output_type": "execute_result"
    }
   ],
   "source": [
    "arr.std() #Standard Deviation"
   ]
  },
  {
   "cell_type": "code",
   "execution_count": 19,
   "id": "3f443883",
   "metadata": {},
   "outputs": [],
   "source": [
    "arr2d = np.arange(0, 25).reshape(5, 5)"
   ]
  },
  {
   "cell_type": "code",
   "execution_count": 22,
   "id": "f3395d7f",
   "metadata": {},
   "outputs": [
    {
     "data": {
      "text/plain": [
       "array([[ 0,  1,  2,  3,  4],\n",
       "       [ 5,  6,  7,  8,  9],\n",
       "       [10, 11, 12, 13, 14],\n",
       "       [15, 16, 17, 18, 19],\n",
       "       [20, 21, 22, 23, 24]])"
      ]
     },
     "execution_count": 22,
     "metadata": {},
     "output_type": "execute_result"
    }
   ],
   "source": [
    "arr2d"
   ]
  },
  {
   "cell_type": "code",
   "execution_count": 23,
   "id": "9f3d24b3",
   "metadata": {},
   "outputs": [
    {
     "data": {
      "text/plain": [
       "300"
      ]
     },
     "execution_count": 23,
     "metadata": {},
     "output_type": "execute_result"
    }
   ],
   "source": [
    "arr2d.sum()"
   ]
  },
  {
   "cell_type": "code",
   "execution_count": 28,
   "id": "ee6103db",
   "metadata": {},
   "outputs": [
    {
     "data": {
      "text/plain": [
       "array([50, 55, 60, 65, 70])"
      ]
     },
     "execution_count": 28,
     "metadata": {},
     "output_type": "execute_result"
    }
   ],
   "source": [
    "arr2d.sum(axis = 0) #Sum of Elements across the Rows | All new values of Rows are Added"
   ]
  },
  {
   "cell_type": "code",
   "execution_count": 30,
   "id": "6f6ec0ab",
   "metadata": {},
   "outputs": [
    {
     "data": {
      "text/plain": [
       "array([ 10,  35,  60,  85, 110])"
      ]
     },
     "execution_count": 30,
     "metadata": {},
     "output_type": "execute_result"
    }
   ],
   "source": [
    "arr2d.sum(axis = 1) #Sum of Elements across the Columns All new values of Columns are Added"
   ]
  },
  {
   "cell_type": "code",
   "execution_count": null,
   "id": "fa7582a0",
   "metadata": {},
   "outputs": [],
   "source": []
  }
 ],
 "metadata": {
  "kernelspec": {
   "display_name": "Python 3 (ipykernel)",
   "language": "python",
   "name": "python3"
  },
  "language_info": {
   "codemirror_mode": {
    "name": "ipython",
    "version": 3
   },
   "file_extension": ".py",
   "mimetype": "text/x-python",
   "name": "python",
   "nbconvert_exporter": "python",
   "pygments_lexer": "ipython3",
   "version": "3.10.9"
  }
 },
 "nbformat": 4,
 "nbformat_minor": 5
}
